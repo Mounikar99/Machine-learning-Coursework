{
  "nbformat": 4,
  "nbformat_minor": 0,
  "metadata": {
    "colab": {
      "provenance": [],
      "toc_visible": true,
      "authorship_tag": "ABX9TyMBAHxe8isJsLnkKQjPb75G",
      "include_colab_link": true
    },
    "kernelspec": {
      "name": "python3",
      "display_name": "Python 3"
    },
    "language_info": {
      "name": "python"
    }
  },
  "cells": [
    {
      "cell_type": "markdown",
      "metadata": {
        "id": "view-in-github",
        "colab_type": "text"
      },
      "source": [
        "<a href=\"https://colab.research.google.com/github/Mounikar99/Machine-learning-Coursework/blob/main/Mounika_lab01.ipynb\" target=\"_parent\"><img src=\"https://colab.research.google.com/assets/colab-badge.svg\" alt=\"Open In Colab\"/></a>"
      ]
    },
    {
      "cell_type": "code",
      "execution_count": null,
      "metadata": {
        "colab": {
          "base_uri": "https://localhost:8080/"
        },
        "id": "3eL_a4D96Nrx",
        "outputId": "81152c6b-d5d6-4d18-c895-b7f26e41ad75"
      },
      "outputs": [
        {
          "output_type": "stream",
          "name": "stdout",
          "text": [
            "Type of a:  <class 'float'>\n",
            "\n",
            "Type of b:  <class 'int'>\n",
            "\n",
            "Type of c:  <class 'complex'>\n"
          ]
        }
      ],
      "source": [
        "#Numeric\n",
        "a = 23456.9\n",
        "print(\"Type of a: \", type(a))\n",
        "\n",
        "b = 5789000\n",
        "print(\"\\nType of b: \", type(b))\n",
        "\n",
        "c = 20 + 4.5j\n",
        "print(\"\\nType of c: \", type(c))"
      ]
    },
    {
      "cell_type": "code",
      "source": [
        "#Sequence type\n",
        "String1 = 'Happy vipes'\n",
        "print(\"String with the use of Single Quotes: \")\n",
        "print(String1)\n",
        "\n",
        "String2 = \"Be Bold and Mature\"\n",
        "print(\"\\nString with the use of Double Quotes: \")\n",
        "print(String2)\n",
        "print(type(String2))\n",
        "\n",
        "String3 = '''Make someone happy\"'''\n",
        "print(\"\\nString with the use of Triple Quotes: \")\n",
        "print(String3)\n",
        "print(type(String3))\n",
        "\n",
        "String4 = '''Life\n",
        "is\n",
        "Full\n",
        "of\n",
        "surprise'''\n",
        "print(\"\\nCreating a multiline String: \")\n",
        "print(String4)"
      ],
      "metadata": {
        "colab": {
          "base_uri": "https://localhost:8080/"
        },
        "id": "aJLsUda9x6ey",
        "outputId": "762b0aa2-253a-41c9-a45d-405021e93305"
      },
      "execution_count": null,
      "outputs": [
        {
          "output_type": "stream",
          "name": "stdout",
          "text": [
            "String with the use of Single Quotes: \n",
            "Happy vipes\n",
            "\n",
            "String with the use of Double Quotes: \n",
            "Be Bold and Mature\n",
            "<class 'str'>\n",
            "\n",
            "String with the use of Triple Quotes: \n",
            "Make someone happy\"\n",
            "<class 'str'>\n",
            "\n",
            "Creating a multiline String: \n",
            "Life \n",
            "is \n",
            "Full\n",
            "of \n",
            "surprise\n"
          ]
        }
      ]
    },
    {
      "cell_type": "code",
      "source": [
        " #string\n",
        "String1 = \"Word Power\"\n",
        "print(\"Initial String: \")\n",
        "print(String1)\n",
        "\n",
        "print(\"\\nLast character of String is: \")\n",
        "print(String1[0])\n",
        "\n",
        "print(\"\\nFast character of String is: \")\n",
        "print(String1[-1])"
      ],
      "metadata": {
        "colab": {
          "base_uri": "https://localhost:8080/"
        },
        "id": "z_LXyM-AyiGR",
        "outputId": "a4497c1c-bd33-41ab-df7c-1b329a1567db"
      },
      "execution_count": null,
      "outputs": [
        {
          "output_type": "stream",
          "name": "stdout",
          "text": [
            "Initial String: \n",
            "Word Power\n",
            "\n",
            "Last character of String is: \n",
            "W\n",
            "\n",
            "Fast character of String is: \n",
            "r\n"
          ]
        }
      ]
    },
    {
      "cell_type": "code",
      "source": [
        "#list\n",
        "\n",
        "List = []\n",
        "print(\"Initial blank List: \")\n",
        "print(List)\n",
        "\n",
        "\n",
        "List = ['Saint Louis University']\n",
        "print(\"\\nList with the use of String: \")\n",
        "print(List)\n",
        "\n",
        "\n",
        "List = [\"Saint\",\"Louis\", \"University\"]\n",
        "print(\"\\nList containing multiple values: \")\n",
        "print(List[0])\n",
        "print(List[1])\n",
        "print(List[2])\n",
        "\n",
        "\n",
        "List = [['S'],['L', 'U'] ]\n",
        "print(\"\\nMulti-Dimensional List: \")\n",
        "print(List)"
      ],
      "metadata": {
        "colab": {
          "base_uri": "https://localhost:8080/"
        },
        "id": "un_uD676ytY8",
        "outputId": "7c9f3c15-23fd-4110-9039-51c8247dc57a"
      },
      "execution_count": null,
      "outputs": [
        {
          "output_type": "stream",
          "name": "stdout",
          "text": [
            "Initial blank List: \n",
            "[]\n",
            "\n",
            "List with the use of String: \n",
            "['Saint Louis University']\n",
            "\n",
            "List containing multiple values: \n",
            "Saint\n",
            "Louis\n",
            "University\n",
            "\n",
            "Multi-Dimensional List: \n",
            "[['S'], ['L', 'U']]\n"
          ]
        }
      ]
    },
    {
      "cell_type": "code",
      "source": [
        "#Tuple\n",
        "\n",
        "tuple1 = tuple([1, 2, 3, 4, 5])\n",
        "\n",
        "print(\"First element of tuple\")\n",
        "print(tuple1[0])\n",
        "\n",
        "print(\"\\nFourth element of tuple\")\n",
        "print(tuple1[-2])\n",
        "\n",
        "print(\"\\nLast  element of tuple\")\n",
        "print(tuple1[-1])"
      ],
      "metadata": {
        "colab": {
          "base_uri": "https://localhost:8080/"
        },
        "id": "ToWfb_UUIlI6",
        "outputId": "cb9371f3-02ef-4ad7-c208-8b92d4d3f190"
      },
      "execution_count": null,
      "outputs": [
        {
          "output_type": "stream",
          "name": "stdout",
          "text": [
            "First element of tuple\n",
            "1\n",
            "\n",
            "Fourth element of tuple\n",
            "4\n",
            "\n",
            "Last  element of tuple\n",
            "5\n"
          ]
        }
      ]
    },
    {
      "cell_type": "code",
      "source": [
        "#Boolean\n",
        "#find Data Type\n",
        "print(True)\n",
        "print(type(True))\n",
        "\n",
        "print(False)\n",
        "print(type(False))\n",
        "\n"
      ],
      "metadata": {
        "colab": {
          "base_uri": "https://localhost:8080/"
        },
        "id": "TYo-rSpOJGUZ",
        "outputId": "438956aa-b18f-4cae-c948-93cdca3f7a6c"
      },
      "execution_count": null,
      "outputs": [
        {
          "output_type": "stream",
          "name": "stdout",
          "text": [
            "True\n",
            "<class 'bool'>\n",
            "False\n",
            "<class 'bool'>\n"
          ]
        }
      ]
    },
    {
      "cell_type": "code",
      "source": [
        "#set\n",
        "\n",
        "set1 =set()\n",
        "print(\"Initial blank Set: \")\n",
        "print(set1)\n",
        "\n",
        "set1 = set(\"SocialMedia\")\n",
        "print(\"\\nSet with the use of String: \")\n",
        "print(set1)\n",
        "\n",
        "set1 = set([\"School\", \"Life\", \"Memories\"])\n",
        "print(\"\\nSet with the use of List: \")\n",
        "print(set1)\n",
        "\n",
        "set1 = set([1, 2,3, 'life', 5, 'For', 'happy'])\n",
        "print(\"\\nSet with the use of Mixed Values\")\n",
        "print(set1)"
      ],
      "metadata": {
        "colab": {
          "base_uri": "https://localhost:8080/"
        },
        "id": "skpY2obdJ_28",
        "outputId": "60c8b153-dfb9-4863-c5e2-0db8fca28711"
      },
      "execution_count": null,
      "outputs": [
        {
          "output_type": "stream",
          "name": "stdout",
          "text": [
            "Initial blank Set: \n",
            "set()\n",
            "\n",
            "Set with the use of String: \n",
            "{'c', 'a', 'l', 'i', 'S', 'M', 'e', 'o', 'd'}\n",
            "\n",
            "Set with the use of List: \n",
            "{'School', 'Life', 'Memories'}\n",
            "\n",
            "Set with the use of Mixed Values\n",
            "{1, 2, 3, 5, 'life', 'happy', 'For'}\n"
          ]
        }
      ]
    },
    {
      "cell_type": "code",
      "source": [
        "#Dictionary\n",
        "# empty Dictionary\n",
        "Dict = {}\n",
        "print(\"Empty Dictionary: \")\n",
        "print(Dict)\n",
        "\n",
        "Dict = {1: 'Sound', 2: 'For', 3: 'Level'}\n",
        "print(\"\\nDictionary with the use of Integer Keys: \")\n",
        "print(Dict)\n",
        "\n",
        "Dict = {'FirstName': 'Suma', 1: [1, 2, 3, 4]}\n",
        "print(\"\\nDictionary with the use of Mixed Keys: \")\n",
        "print(Dict)\n",
        "\n",
        "Dict = dict({1: 'level', 2: 'of', 3:'Education'})\n",
        "print(\"\\nDictionary with the use of dict(): \")\n",
        "print(Dict)\n",
        "\n",
        "Dict = dict([(1, 'small'), (2, 'bit')])\n",
        "print(\"\\nDictionary with each item as a pair: \")\n",
        "print(Dict)"
      ],
      "metadata": {
        "colab": {
          "base_uri": "https://localhost:8080/"
        },
        "id": "ctzuJljELqyz",
        "outputId": "a85f13ed-6a9e-4dbf-99a4-e33824683875"
      },
      "execution_count": null,
      "outputs": [
        {
          "output_type": "stream",
          "name": "stdout",
          "text": [
            "Empty Dictionary: \n",
            "{}\n",
            "\n",
            "Dictionary with the use of Integer Keys: \n",
            "{1: 'Sound', 2: 'For', 3: 'Level'}\n",
            "\n",
            "Dictionary with the use of Mixed Keys: \n",
            "{'FirstName': 'Suma', 1: [1, 2, 3, 4]}\n",
            "\n",
            "Dictionary with the use of dict(): \n",
            "{1: 'level', 2: 'of', 3: 'Education'}\n",
            "\n",
            "Dictionary with each item as a pair: \n",
            "{1: 'small', 2: 'bit'}\n"
          ]
        }
      ]
    },
    {
      "cell_type": "code",
      "source": [
        "#Problem 3\n",
        "\n",
        "def encode(string):\n",
        "    Output= []\n",
        "    for uniqueletter in string:\n",
        "        if uniqueletter == 'A':\n",
        "            Output.append([1,0,0,0])\n",
        "        elif uniqueletter == 'C':\n",
        "            Output.append([0,1,0,0])\n",
        "        elif uniqueletter == 'G':\n",
        "            Output.append([0,0,1,0])\n",
        "        elif uniqueletter == 'T':\n",
        "            Output.append([0,0,0,1])\n",
        "        else:\n",
        "            Output.append([0,0,0,0])\n",
        "    return Output\n",
        "\n",
        "#Testing\n",
        "print(encode(\"AGGTGCGX\"))\n",
        "print(encode(\"ACNCTGA\"))\n",
        "print(encode(\"TGCAAAG\"))\n",
        "print(encode(\"AASECVFF\"))"
      ],
      "metadata": {
        "colab": {
          "base_uri": "https://localhost:8080/"
        },
        "id": "D_rmZ-U7NU_F",
        "outputId": "2765874b-b504-499f-c3ed-2369d7f03060"
      },
      "execution_count": null,
      "outputs": [
        {
          "output_type": "stream",
          "name": "stdout",
          "text": [
            "[[1, 0, 0, 0], [0, 0, 1, 0], [0, 0, 1, 0], [0, 0, 0, 1], [0, 0, 1, 0], [0, 1, 0, 0], [0, 0, 1, 0], [0, 0, 0, 0]]\n",
            "[[1, 0, 0, 0], [0, 1, 0, 0], [0, 0, 0, 0], [0, 1, 0, 0], [0, 0, 0, 1], [0, 0, 1, 0], [1, 0, 0, 0]]\n",
            "[[0, 0, 0, 1], [0, 0, 1, 0], [0, 1, 0, 0], [1, 0, 0, 0], [1, 0, 0, 0], [1, 0, 0, 0], [0, 0, 1, 0]]\n",
            "[[1, 0, 0, 0], [1, 0, 0, 0], [0, 0, 0, 0], [0, 0, 0, 0], [0, 1, 0, 0], [0, 0, 0, 0], [0, 0, 0, 0], [0, 0, 0, 0]]\n"
          ]
        }
      ]
    },
    {
      "cell_type": "code",
      "source": [
        "#problem 4\n",
        "\n",
        "def encode_pairs(string):\n",
        "    def letter_to_list(d):\n",
        "        return {'A': [1,0,0,0], 'C':[0,1,0,0], 'G':[0,0,1,0], 'T':[0,0,0,1]}.get(d, [])\n",
        "\n",
        "    pairs = []\n",
        "\n",
        "    for f1 in range(len(string)):\n",
        "        for f2 in range(f1+1, len(string)):\n",
        "            pair = string[f1] + string[f2]\n",
        "            pair_list = letter_to_list(pair[0]) + letter_to_list(pair[1])\n",
        "            pairs.append(pair_list)\n",
        "\n",
        "    return pairs\n",
        "\n",
        "print(encode_pairs(\"AC\"))\n",
        "\n",
        "#Testing\n",
        "print(encode_pairs(\"AAACTGXA\"))\n",
        "print(encode_pairs(\"AXAGACT\"))\n",
        "print(encode_pairs(\"TCCAGG\"))\n",
        "print(encode_pairs(\"AGGGGVFF\"))"
      ],
      "metadata": {
        "colab": {
          "base_uri": "https://localhost:8080/"
        },
        "id": "Mikp84NCPwXA",
        "outputId": "113a5c28-1d44-4bb6-eef0-d3cae03924b1"
      },
      "execution_count": null,
      "outputs": [
        {
          "output_type": "stream",
          "name": "stdout",
          "text": [
            "[[1, 0, 0, 0, 0, 1, 0, 0]]\n",
            "[[1, 0, 0, 0, 1, 0, 0, 0], [1, 0, 0, 0, 1, 0, 0, 0], [1, 0, 0, 0, 0, 1, 0, 0], [1, 0, 0, 0, 0, 0, 0, 1], [1, 0, 0, 0, 0, 0, 1, 0], [1, 0, 0, 0], [1, 0, 0, 0, 1, 0, 0, 0], [1, 0, 0, 0, 1, 0, 0, 0], [1, 0, 0, 0, 0, 1, 0, 0], [1, 0, 0, 0, 0, 0, 0, 1], [1, 0, 0, 0, 0, 0, 1, 0], [1, 0, 0, 0], [1, 0, 0, 0, 1, 0, 0, 0], [1, 0, 0, 0, 0, 1, 0, 0], [1, 0, 0, 0, 0, 0, 0, 1], [1, 0, 0, 0, 0, 0, 1, 0], [1, 0, 0, 0], [1, 0, 0, 0, 1, 0, 0, 0], [0, 1, 0, 0, 0, 0, 0, 1], [0, 1, 0, 0, 0, 0, 1, 0], [0, 1, 0, 0], [0, 1, 0, 0, 1, 0, 0, 0], [0, 0, 0, 1, 0, 0, 1, 0], [0, 0, 0, 1], [0, 0, 0, 1, 1, 0, 0, 0], [0, 0, 1, 0], [0, 0, 1, 0, 1, 0, 0, 0], [1, 0, 0, 0]]\n",
            "[[1, 0, 0, 0], [1, 0, 0, 0, 1, 0, 0, 0], [1, 0, 0, 0, 0, 0, 1, 0], [1, 0, 0, 0, 1, 0, 0, 0], [1, 0, 0, 0, 0, 1, 0, 0], [1, 0, 0, 0, 0, 0, 0, 1], [1, 0, 0, 0], [0, 0, 1, 0], [1, 0, 0, 0], [0, 1, 0, 0], [0, 0, 0, 1], [1, 0, 0, 0, 0, 0, 1, 0], [1, 0, 0, 0, 1, 0, 0, 0], [1, 0, 0, 0, 0, 1, 0, 0], [1, 0, 0, 0, 0, 0, 0, 1], [0, 0, 1, 0, 1, 0, 0, 0], [0, 0, 1, 0, 0, 1, 0, 0], [0, 0, 1, 0, 0, 0, 0, 1], [1, 0, 0, 0, 0, 1, 0, 0], [1, 0, 0, 0, 0, 0, 0, 1], [0, 1, 0, 0, 0, 0, 0, 1]]\n",
            "[[0, 0, 0, 1, 0, 1, 0, 0], [0, 0, 0, 1, 0, 1, 0, 0], [0, 0, 0, 1, 1, 0, 0, 0], [0, 0, 0, 1, 0, 0, 1, 0], [0, 0, 0, 1, 0, 0, 1, 0], [0, 1, 0, 0, 0, 1, 0, 0], [0, 1, 0, 0, 1, 0, 0, 0], [0, 1, 0, 0, 0, 0, 1, 0], [0, 1, 0, 0, 0, 0, 1, 0], [0, 1, 0, 0, 1, 0, 0, 0], [0, 1, 0, 0, 0, 0, 1, 0], [0, 1, 0, 0, 0, 0, 1, 0], [1, 0, 0, 0, 0, 0, 1, 0], [1, 0, 0, 0, 0, 0, 1, 0], [0, 0, 1, 0, 0, 0, 1, 0]]\n",
            "[[1, 0, 0, 0, 0, 0, 1, 0], [1, 0, 0, 0, 0, 0, 1, 0], [1, 0, 0, 0, 0, 0, 1, 0], [1, 0, 0, 0, 0, 0, 1, 0], [1, 0, 0, 0], [1, 0, 0, 0], [1, 0, 0, 0], [0, 0, 1, 0, 0, 0, 1, 0], [0, 0, 1, 0, 0, 0, 1, 0], [0, 0, 1, 0, 0, 0, 1, 0], [0, 0, 1, 0], [0, 0, 1, 0], [0, 0, 1, 0], [0, 0, 1, 0, 0, 0, 1, 0], [0, 0, 1, 0, 0, 0, 1, 0], [0, 0, 1, 0], [0, 0, 1, 0], [0, 0, 1, 0], [0, 0, 1, 0, 0, 0, 1, 0], [0, 0, 1, 0], [0, 0, 1, 0], [0, 0, 1, 0], [0, 0, 1, 0], [0, 0, 1, 0], [0, 0, 1, 0], [], [], []]\n"
          ]
        }
      ]
    }
  ]
}